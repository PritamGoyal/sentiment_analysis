{
 "cells": [
  {
   "cell_type": "code",
   "execution_count": 1,
   "id": "ac6e75ab-a7aa-45e6-916a-7e333ed54533",
   "metadata": {},
   "outputs": [],
   "source": [
    "import pandas as pd\n",
    "import numpy as np\n",
    "import matplotlib.pyplot as plt\n",
    "import seaborn as sns\n",
    "import re"
   ]
  },
  {
   "cell_type": "code",
   "execution_count": 2,
   "id": "9f2742ba-1a79-44ca-909d-89604a8d51fb",
   "metadata": {},
   "outputs": [],
   "source": [
    "import nltk\n",
    "from nltk.corpus import stopwords\n",
    "from nltk.stem import WordNetLemmatizer"
   ]
  },
  {
   "cell_type": "code",
   "execution_count": 3,
   "id": "39b86bcb-09fe-49cd-af83-4d54ebc7f9c3",
   "metadata": {},
   "outputs": [],
   "source": [
    "from sklearn.feature_extraction.text import CountVectorizer\n",
    "from sklearn.model_selection import GridSearchCV\n",
    "from sklearn.ensemble import RandomForestClassifier"
   ]
  },
  {
   "cell_type": "code",
   "execution_count": 4,
   "id": "14c606b0-dc56-4a5e-b22e-4cec513e002d",
   "metadata": {},
   "outputs": [],
   "source": [
    "from sklearn.metrics import accuracy_score,precision_score,recall_score,confusion_matrix,roc_curve,classification_report\n",
    "from sklearn.metrics import confusion_matrix"
   ]
  },
  {
   "cell_type": "code",
   "execution_count": 5,
   "id": "5b111b18-2d56-4c94-9e28-22876a87a539",
   "metadata": {},
   "outputs": [],
   "source": [
    "from wordcloud import WordCloud"
   ]
  },
  {
   "cell_type": "code",
   "execution_count": 6,
   "id": "09acfa3b-77a4-4b7e-af35-df7ca00ba023",
   "metadata": {},
   "outputs": [],
   "source": [
    "df_train=pd.read_csv(\"C:\\\\Users\\\\Dell\\\\OneDrive\\\\Desktop\\\\my projects\\\\anonymous\\\\datasets\\\\sentiment\\\\train.txt\",delimiter=';',names=['text','label'])\n",
    "df_val=pd.read_csv(\"C:\\\\Users\\\\Dell\\\\OneDrive\\\\Desktop\\\\my projects\\\\anonymous\\\\datasets\\\\sentiment\\\\val.txt\",delimiter=';',names=['text','label'])"
   ]
  },
  {
   "cell_type": "code",
   "execution_count": 7,
   "id": "24f22769-fbd5-41e4-b12a-82943e822611",
   "metadata": {},
   "outputs": [],
   "source": [
    "df = pd.concat([df_train,df_val])\n",
    "df.reset_index(inplace=True,drop=True)"
   ]
  },
  {
   "cell_type": "code",
   "execution_count": 8,
   "id": "9dd57638-ab42-4b44-8afa-5762c512ef7f",
   "metadata": {},
   "outputs": [
    {
     "data": {
      "text/html": [
       "<div>\n",
       "<style scoped>\n",
       "    .dataframe tbody tr th:only-of-type {\n",
       "        vertical-align: middle;\n",
       "    }\n",
       "\n",
       "    .dataframe tbody tr th {\n",
       "        vertical-align: top;\n",
       "    }\n",
       "\n",
       "    .dataframe thead th {\n",
       "        text-align: right;\n",
       "    }\n",
       "</style>\n",
       "<table border=\"1\" class=\"dataframe\">\n",
       "  <thead>\n",
       "    <tr style=\"text-align: right;\">\n",
       "      <th></th>\n",
       "      <th>text</th>\n",
       "      <th>label</th>\n",
       "    </tr>\n",
       "  </thead>\n",
       "  <tbody>\n",
       "    <tr>\n",
       "      <th>0</th>\n",
       "      <td>i didnt feel humiliated</td>\n",
       "      <td>sadness</td>\n",
       "    </tr>\n",
       "    <tr>\n",
       "      <th>1</th>\n",
       "      <td>i can go from feeling so hopeless to so damned...</td>\n",
       "      <td>sadness</td>\n",
       "    </tr>\n",
       "    <tr>\n",
       "      <th>2</th>\n",
       "      <td>im grabbing a minute to post i feel greedy wrong</td>\n",
       "      <td>anger</td>\n",
       "    </tr>\n",
       "    <tr>\n",
       "      <th>3</th>\n",
       "      <td>i am ever feeling nostalgic about the fireplac...</td>\n",
       "      <td>love</td>\n",
       "    </tr>\n",
       "    <tr>\n",
       "      <th>4</th>\n",
       "      <td>i am feeling grouchy</td>\n",
       "      <td>anger</td>\n",
       "    </tr>\n",
       "  </tbody>\n",
       "</table>\n",
       "</div>"
      ],
      "text/plain": [
       "                                                text    label\n",
       "0                            i didnt feel humiliated  sadness\n",
       "1  i can go from feeling so hopeless to so damned...  sadness\n",
       "2   im grabbing a minute to post i feel greedy wrong    anger\n",
       "3  i am ever feeling nostalgic about the fireplac...     love\n",
       "4                               i am feeling grouchy    anger"
      ]
     },
     "execution_count": 8,
     "metadata": {},
     "output_type": "execute_result"
    }
   ],
   "source": [
    "df.head()"
   ]
  },
  {
   "cell_type": "code",
   "execution_count": 9,
   "id": "a5497e47-196e-40d8-8c2c-34b0423767a9",
   "metadata": {},
   "outputs": [
    {
     "name": "stdout",
     "output_type": "stream",
     "text": [
      "<class 'pandas.core.frame.DataFrame'>\n",
      "RangeIndex: 18000 entries, 0 to 17999\n",
      "Data columns (total 2 columns):\n",
      " #   Column  Non-Null Count  Dtype \n",
      "---  ------  --------------  ----- \n",
      " 0   text    18000 non-null  object\n",
      " 1   label   18000 non-null  object\n",
      "dtypes: object(2)\n",
      "memory usage: 281.4+ KB\n"
     ]
    }
   ],
   "source": [
    "df.info()"
   ]
  },
  {
   "cell_type": "code",
   "execution_count": 10,
   "id": "0234a9fc-6af6-4e22-af8f-e3dbdeeb221d",
   "metadata": {},
   "outputs": [
    {
     "data": {
      "text/plain": [
       "text     0\n",
       "label    0\n",
       "dtype: int64"
      ]
     },
     "execution_count": 10,
     "metadata": {},
     "output_type": "execute_result"
    }
   ],
   "source": [
    "df.isnull().sum()"
   ]
  },
  {
   "cell_type": "code",
   "execution_count": 11,
   "id": "1086c64d-edc5-413e-9723-501497c7310a",
   "metadata": {},
   "outputs": [
    {
     "data": {
      "text/plain": [
       "1"
      ]
     },
     "execution_count": 11,
     "metadata": {},
     "output_type": "execute_result"
    }
   ],
   "source": [
    "df.duplicated().sum()"
   ]
  },
  {
   "cell_type": "code",
   "execution_count": 12,
   "id": "f31b5942-8503-4d42-addc-359e9f4cd928",
   "metadata": {},
   "outputs": [
    {
     "data": {
      "text/plain": [
       "(18000, 2)"
      ]
     },
     "execution_count": 12,
     "metadata": {},
     "output_type": "execute_result"
    }
   ],
   "source": [
    "df.shape"
   ]
  },
  {
   "cell_type": "code",
   "execution_count": 13,
   "id": "960c0735-db62-4d2b-9c48-bace3067baef",
   "metadata": {},
   "outputs": [
    {
     "name": "stdout",
     "output_type": "stream",
     "text": [
      "text     object\n",
      "label    object\n",
      "dtype: object\n"
     ]
    }
   ],
   "source": [
    "print(df.dtypes)"
   ]
  },
  {
   "cell_type": "code",
   "execution_count": 14,
   "id": "e383fbe1-03eb-4c8e-8b27-f3783ed00a8f",
   "metadata": {},
   "outputs": [
    {
     "name": "stdout",
     "output_type": "stream",
     "text": [
      "joy         6066\n",
      "sadness     5216\n",
      "anger       2434\n",
      "fear        2149\n",
      "love        1482\n",
      "surprise     653\n",
      "Name: label, dtype: int64\n",
      "joy         33.700000\n",
      "sadness     28.977778\n",
      "anger       13.522222\n",
      "fear        11.938889\n",
      "love         8.233333\n",
      "surprise     3.627778\n",
      "Name: label, dtype: float64\n"
     ]
    },
    {
     "data": {
      "text/plain": [
       "<Axes: >"
      ]
     },
     "execution_count": 14,
     "metadata": {},
     "output_type": "execute_result"
    },
    {
     "data": {
      "image/png": "[encoded data removed]",
      "text/plain": [
       "<Figure size 640x480 with 1 Axes>"
      ]
     },
     "metadata": {},
     "output_type": "display_data"
    }
   ],
   "source": [
    "print(df['label'].value_counts())\n",
    "print((df['label'].value_counts()/df['label'].count())*100)\n",
    "df['label'].value_counts().plot(kind='bar')"
   ]
  },
  {
   "cell_type": "code",
   "execution_count": 15,
   "id": "d39ed194-f45f-4843-9d53-764e0d44653f",
   "metadata": {},
   "outputs": [],
   "source": [
    "def custom_encoder(df):\n",
    "    df.replace(to_replace =\"surprise\", value =1, inplace=True)\n",
    "    df.replace(to_replace =\"love\", value =1, inplace=True)\n",
    "    df.replace(to_replace =\"joy\", value =1, inplace=True)\n",
    "    df.replace(to_replace =\"fear\", value =0, inplace=True)\n",
    "    df.replace(to_replace =\"anger\", value =0, inplace=True)\n",
    "    df.replace(to_replace =\"sadness\", value =0, inplace=True)\n",
    "custom_encoder(df['label'])"
   ]
  },
  {
   "cell_type": "code",
   "execution_count": 16,
   "id": "c9641dcd-63c5-401f-9e52-25ec620d77ea",
   "metadata": {},
   "outputs": [],
   "source": [
    "df_test=pd.read_csv(\"C:\\\\Users\\\\Dell\\\\OneDrive\\\\Desktop\\\\my projects\\\\anonymous\\\\datasets\\\\sentiment\\\\test.txt\",delimiter=';',names=['text','label'])"
   ]
  },
  {
   "cell_type": "code",
   "execution_count": 17,
   "id": "e2a4ea27-8565-4bfa-923d-7b52f72ea7e5",
   "metadata": {},
   "outputs": [
    {
     "data": {
      "text/plain": [
       "<Axes: >"
      ]
     },
     "execution_count": 17,
     "metadata": {},
     "output_type": "execute_result"
    },
    {
     "data": {
      "image/png": "[encoded data removed]",
      "text/plain": [
       "<Figure size 640x480 with 1 Axes>"
      ]
     },
     "metadata": {},
     "output_type": "display_data"
    }
   ],
   "source": [
    "df['label'].value_counts().plot(kind='bar')"
   ]
  },
  {
   "cell_type": "code",
   "execution_count": 18,
   "id": "df874ca8-7d25-4a0c-b312-96a54a0414c7",
   "metadata": {},
   "outputs": [],
   "source": [
    "#object of WordNetLemmatizer\n",
    "lm = WordNetLemmatizer()\n",
    "def text_transformation(df_col):\n",
    "    corpus = []\n",
    "    for item in df_col:\n",
    "        new_item = re.sub('[^a-zA-Z]',' ',str(item))\n",
    "        new_item = new_item.lower()\n",
    "        new_item = new_item.split()\n",
    "        new_item = [lm.lemmatize(word) for word in new_item if word not in set(stopwords.words('english'))]\n",
    "        corpus.append(' '.join(str(x) for x in new_item))\n",
    "    return corpus"
   ]
  },
  {
   "cell_type": "code",
   "execution_count": 19,
   "id": "9757d196-5bdf-4437-a1c7-6cdf41f92457",
   "metadata": {},
   "outputs": [],
   "source": [
    "corpus = text_transformation(df['text'])"
   ]
  },
  {
   "cell_type": "code",
   "execution_count": 20,
   "id": "5ee9881b-9db5-4b03-8056-c14217667dcf",
   "metadata": {},
   "outputs": [],
   "source": [
    "cv = CountVectorizer(ngram_range=(1,2))\n",
    "traindata = cv.fit_transform(corpus)\n",
    "X = traindata\n",
    "y = df.label"
   ]
  },
  {
   "cell_type": "code",
   "execution_count": 21,
   "id": "ace23427-d247-4e3c-8584-261a299c2fc8",
   "metadata": {},
   "outputs": [],
   "source": [
    "X_test,y_test = df_test.text,df_test.label\n",
    "#encode the labels into two classes , 0 and 1\n",
    "df_test = custom_encoder(y_test)\n",
    "#pre-processing of text\n",
    "test_corpus = text_transformation(X_test)\n",
    "#convert text data into vectors\n",
    "testdata = cv.transform(test_corpus)\n",
    "\n"
   ]
  },
  {
   "cell_type": "code",
   "execution_count": 22,
   "id": "10e4591c-2dd9-46f4-a809-92df8b6b3a10",
   "metadata": {},
   "outputs": [],
   "source": [
    "rf = RandomForestClassifier()\n",
    "rf.fit(X,y)\n",
    "predictions = rf.predict(testdata)"
   ]
  },
  {
   "cell_type": "code",
   "execution_count": 23,
   "id": "97974005-da3a-4091-bc0e-81c670976ad4",
   "metadata": {},
   "outputs": [
    {
     "name": "stdout",
     "output_type": "stream",
     "text": [
      "Accuracy_score:  0.9585\n",
      "Precision_score:  0.9524324324324325\n",
      "Recall_score:  0.9576086956521739\n",
      "--------------------------------------------------\n",
      "              precision    recall  f1-score   support\n",
      "\n",
      "           0       0.96      0.96      0.96      1080\n",
      "           1       0.95      0.96      0.96       920\n",
      "\n",
      "    accuracy                           0.96      2000\n",
      "   macro avg       0.96      0.96      0.96      2000\n",
      "weighted avg       0.96      0.96      0.96      2000\n",
      "\n"
     ]
    }
   ],
   "source": [
    "#plot_confusion_matrix(y_test,predictions)\n",
    "acc_score = accuracy_score(y_test,predictions)\n",
    "pre_score = precision_score(y_test,predictions)\n",
    "rec_score = recall_score(y_test,predictions)\n",
    "print('Accuracy_score: ',acc_score)\n",
    "print('Precision_score: ',pre_score)\n",
    "print('Recall_score: ',rec_score)\n",
    "print(\"-\"*50)\n",
    "cr = classification_report(y_test,predictions)\n",
    "print(cr)"
   ]
  },
  {
   "cell_type": "code",
   "execution_count": null,
   "id": "0e630eb1-2ddb-4f34-ba7b-80951402774b",
   "metadata": {},
   "outputs": [],
   "source": []
  }
 ],
 "metadata": {
  "kernelspec": {
   "display_name": "Python 3 (ipykernel)",
   "language": "python",
   "name": "python3"
  },
  "language_info": {
   "codemirror_mode": {
    "name": "ipython",
    "version": 3
   },
   "file_extension": ".py",
   "mimetype": "text/x-python",
   "name": "python",
   "nbconvert_exporter": "python",
   "pygments_lexer": "ipython3",
   "version": "3.11.3"
  }
 },
 "nbformat": 4,
 "nbformat_minor": 5
}
